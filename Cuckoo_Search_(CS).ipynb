{
  "nbformat": 4,
  "nbformat_minor": 0,
  "metadata": {
    "colab": {
      "provenance": [],
      "authorship_tag": "ABX9TyOa1ikxYgP0gdRrjYEsCYvv",
      "include_colab_link": true
    },
    "kernelspec": {
      "name": "python3",
      "display_name": "Python 3"
    },
    "language_info": {
      "name": "python"
    }
  },
  "cells": [
    {
      "cell_type": "markdown",
      "metadata": {
        "id": "view-in-github",
        "colab_type": "text"
      },
      "source": [
        "<a href=\"https://colab.research.google.com/github/Sanjeet-108/BIS_LAB/blob/main/Cuckoo_Search_(CS).ipynb\" target=\"_parent\"><img src=\"https://colab.research.google.com/assets/colab-badge.svg\" alt=\"Open In Colab\"/></a>"
      ]
    },
    {
      "cell_type": "code",
      "execution_count": 2,
      "metadata": {
        "colab": {
          "base_uri": "https://localhost:8080/"
        },
        "id": "_0S02KQlhAhW",
        "outputId": "0decdb25-eeac-4251-aa62-202c7c3ba7f1"
      },
      "outputs": [
        {
          "output_type": "stream",
          "name": "stdout",
          "text": [
            "Best Solution:  [0.0751721  0.02877377 0.11064454 0.04385519 0.17282532]\n",
            "Best Fitness (Objective Value):  0.05051285659073556\n"
          ]
        }
      ],
      "source": [
        "#1BM22CS241\n",
        "#Cuckoo Search (CS):\n",
        "\n",
        "\n",
        "import numpy as np\n",
        "\n",
        "def cuckoo_search(func, D, N=25, MaxIter=100, pa=0.25, alpha=0.01):\n",
        "    \"\"\"\n",
        "    Cuckoo Search Algorithm\n",
        "\n",
        "    Parameters:\n",
        "        func: Objective function to optimize.\n",
        "        D: Dimensionality of the problem (number of variables).\n",
        "        N: Number of nests (population size).\n",
        "        MaxIter: Maximum number of iterations.\n",
        "        pa: Probability of discovery (fraction of worst nests to replace).\n",
        "        alpha: Step size for the Lévy flight.\n",
        "\n",
        "    Returns:\n",
        "        best_nest: The best solution found.\n",
        "        best_fitness: The fitness (value of the objective function) of the best solution.\n",
        "    \"\"\"\n",
        "    # Step 1: Initialize nests\n",
        "    nests = np.random.rand(N, D)  # N nests, D-dimensional space\n",
        "    fitness = np.apply_along_axis(func, 1, nests)  # Fitness of each nest\n",
        "\n",
        "    best_nest = nests[np.argmin(fitness)]  # Best solution (nest) so far\n",
        "    best_fitness = np.min(fitness)  # Fitness of best solution\n",
        "\n",
        "    # Step 2: Iteration\n",
        "    for iteration in range(MaxIter):\n",
        "        # Generate new solutions using Lévy flights\n",
        "        for i in range(N):\n",
        "            step_size = alpha * levy_flight(D)  # Generate Lévy flight step\n",
        "            new_nest = nests[i] + step_size\n",
        "            new_fitness = func(new_nest)\n",
        "\n",
        "            # If the new nest is better, replace it\n",
        "            if new_fitness < fitness[i]:\n",
        "                nests[i] = new_nest\n",
        "                fitness[i] = new_fitness\n",
        "\n",
        "        # Step 3: Abandon worst nests\n",
        "        worst_indices = np.argsort(fitness)[-int(pa * N):]  # worst N nests\n",
        "        nests[worst_indices] = np.random.rand(len(worst_indices), D)\n",
        "        fitness[worst_indices] = np.apply_along_axis(func, 1, nests[worst_indices])\n",
        "\n",
        "        # Step 4: Update best solution\n",
        "        current_best_index = np.argmin(fitness)\n",
        "        if fitness[current_best_index] < best_fitness:\n",
        "            best_nest = nests[current_best_index]\n",
        "            best_fitness = fitness[current_best_index]\n",
        "\n",
        "    # Output the best solution found\n",
        "    return best_nest, best_fitness\n",
        "\n",
        "# Lévy flight (simplified)\n",
        "def levy_flight(D):\n",
        "    # This function generates a Lévy flight step\n",
        "    # For simplicity, using random walk (simplified)\n",
        "    step_size = np.random.normal(0, 1, size=D)  # Normal distribution step\n",
        "    return step_size\n",
        "\n",
        "# Example usage:\n",
        "# Define an example objective function to minimize\n",
        "def objective_function(x):\n",
        "    return np.sum(x**2)  # Simple sphere function\n",
        "\n",
        "# Parameters\n",
        "D = 5  # Dimensionality of the problem (5 variables)\n",
        "N = 25  # Number of nests\n",
        "MaxIter = 100  # Maximum iterations\n",
        "\n",
        "# Run the cuckoo search\n",
        "best_solution, best_value = cuckoo_search(objective_function, D, N, MaxIter)\n",
        "\n",
        "# Print the best solution and its fitness value\n",
        "print(\"Best Solution: \", best_solution)\n",
        "print(\"Best Fitness (Objective Value): \", best_value)\n"
      ]
    }
  ]
}