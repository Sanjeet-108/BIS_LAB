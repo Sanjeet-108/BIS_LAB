{
  "nbformat": 4,
  "nbformat_minor": 0,
  "metadata": {
    "colab": {
      "provenance": [],
      "authorship_tag": "ABX9TyPH3CnbX94+K9a+3nmLQCyT",
      "include_colab_link": true
    },
    "kernelspec": {
      "name": "python3",
      "display_name": "Python 3"
    },
    "language_info": {
      "name": "python"
    }
  },
  "cells": [
    {
      "cell_type": "markdown",
      "metadata": {
        "id": "view-in-github",
        "colab_type": "text"
      },
      "source": [
        "<a href=\"https://colab.research.google.com/github/Sanjeet-108/BIS_LAB/blob/main/Grey_Wolf_Optimizer_(GWO).ipynb\" target=\"_parent\"><img src=\"https://colab.research.google.com/assets/colab-badge.svg\" alt=\"Open In Colab\"/></a>"
      ]
    },
    {
      "cell_type": "code",
      "execution_count": 3,
      "metadata": {
        "colab": {
          "base_uri": "https://localhost:8080/"
        },
        "id": "gLnBWcQpZKdL",
        "outputId": "ab8ee8a9-8312-47f9-e638-c9eb3a89cc94"
      },
      "outputs": [
        {
          "output_type": "stream",
          "name": "stdout",
          "text": [
            "Best Position: [ 5.36378653e-10 -5.68685401e-10  6.98082568e-10  1.24076163e-10\n",
            "  1.06286068e-09]\n",
            "Best Score: 2.6023092982497745e-18\n"
          ]
        }
      ],
      "source": [
        "# 1BM22CS241\n",
        "# Grey Wolf Optimizer (GWO)\n",
        "\n",
        "import numpy as np\n",
        "\n",
        "# Objective function (to be optimized)\n",
        "def objective_function(x):\n",
        "    return np.sum(x**2)  # Example: Sphere function\n",
        "\n",
        "# Grey Wolf Optimizer\n",
        "def GWO(obj_func, dim, n_wolves, max_iter, bounds):\n",
        "    # Initialize alpha, beta, delta wolves\n",
        "    alpha_pos = np.zeros(dim)\n",
        "    beta_pos = np.zeros(dim)\n",
        "    delta_pos = np.zeros(dim)\n",
        "    alpha_score = float(\"inf\")\n",
        "    beta_score = float(\"inf\")\n",
        "    delta_score = float(\"inf\")\n",
        "\n",
        "    # Initialize the population\n",
        "    wolves = np.random.uniform(bounds[0], bounds[1], (n_wolves, dim))\n",
        "\n",
        "    # Main loop\n",
        "    for t in range(max_iter):\n",
        "        for i, wolf in enumerate(wolves):\n",
        "            # Calculate fitness\n",
        "            fitness = obj_func(wolf)\n",
        "            # Update alpha, beta, delta\n",
        "            if fitness < alpha_score:\n",
        "                delta_score, delta_pos = beta_score, beta_pos\n",
        "                beta_score, beta_pos = alpha_score, alpha_pos\n",
        "                alpha_score, alpha_pos = fitness, wolf\n",
        "            elif fitness < beta_score:\n",
        "                delta_score, delta_pos = beta_score, beta_pos\n",
        "                beta_score, beta_pos = fitness, wolf\n",
        "            elif fitness < delta_score:\n",
        "                delta_score, delta_pos = fitness, wolf\n",
        "\n",
        "        # Update positions of wolves\n",
        "        for i in range(n_wolves):\n",
        "            for d in range(dim):\n",
        "                r1, r2 = np.random.random(), np.random.random()\n",
        "                A1, C1 = 2 * r1 - 1, 2 * r2\n",
        "                D_alpha = abs(C1 * alpha_pos[d] - wolves[i][d])\n",
        "                X1 = alpha_pos[d] - A1 * D_alpha\n",
        "\n",
        "                r1, r2 = np.random.random(), np.random.random()\n",
        "                A2, C2 = 2 * r1 - 1, 2 * r2\n",
        "                D_beta = abs(C2 * beta_pos[d] - wolves[i][d])\n",
        "                X2 = beta_pos[d] - A2 * D_beta\n",
        "\n",
        "                r1, r2 = np.random.random(), np.random.random()\n",
        "                A3, C3 = 2 * r1 - 1, 2 * r2\n",
        "                D_delta = abs(C3 * delta_pos[d] - wolves[i][d])\n",
        "                X3 = delta_pos[d] - A3 * D_delta\n",
        "\n",
        "                # Update wolf position\n",
        "                wolves[i][d] = (X1 + X2 + X3) / 3\n",
        "\n",
        "            # Ensure wolves are within bounds\n",
        "            wolves[i] = np.clip(wolves[i], bounds[0], bounds[1])\n",
        "\n",
        "    return alpha_pos, alpha_score\n",
        "\n",
        "# Example Usage\n",
        "dim = 5  # Number of dimensions\n",
        "n_wolves = 30  # Number of wolves\n",
        "max_iter = 100  # Number of iterations\n",
        "bounds = [-10, 10]  # Search space bounds\n",
        "\n",
        "best_position, best_score = GWO(objective_function, dim, n_wolves, max_iter, bounds)\n",
        "print(f\"Best Position: {best_position}\")\n",
        "print(f\"Best Score: {best_score}\")\n"
      ]
    }
  ]
}